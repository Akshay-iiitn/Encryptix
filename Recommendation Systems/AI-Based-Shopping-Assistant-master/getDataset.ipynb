{
 "cells": [
  {
   "cell_type": "code",
   "execution_count": 1,
   "id": "c6267dd0",
   "metadata": {},
   "outputs": [],
   "source": [
    "import pandas as pd\n",
    "import numpy as np\n",
    "from random import randrange\n",
    "from collections import Counter"
   ]
  },
  {
   "cell_type": "code",
   "execution_count": 2,
   "id": "eeb51ebb",
   "metadata": {},
   "outputs": [],
   "source": [
    "def getRecency(Time, item):\n",
    "\tsum = 0\n",
    "\tk = 0\n",
    "\tfor i in range(item):\n",
    "\t\tj = i + 1\n",
    "\t\tfor j in range(item):\n",
    "\t\t\tif i == j:\n",
    "\t\t\t\tdif = item[i]-item[j]\n",
    "\t\t\t\tsum += dif\n",
    "\t\t\t\tk = 0\n",
    "\taverage = sum/k\n",
    "\treturn average"
   ]
  },
  {
   "cell_type": "code",
   "execution_count": 5,
   "id": "d8c13534",
   "metadata": {},
   "outputs": [],
   "source": [
    "def getData():\n",
    "    history_size = 1000\n",
    "    item = []\n",
    "    search_history = ['shirt', 'watch', 'wallet', 'shoes', 'belt', 'rice', 'sugar', 'skirt', 'sandal', 'heals', 'handbag', 'bagpack', 'pillow', 'teddy', 'suitcase', 'mobiles', 'laptop', 'fridge', 'desk', 'soda', 'hat', 'bangles', 'earrings', 'necklace', 'ring', 'shampoo', 'dates', 'cashew', 'juice', 'lays', 'maggi', 'keyboard', 'paper', 'pen', 'pencil', 'radio', 'rocket fuel', 'bulbs', 'ink', 'pajamas', 'shower', 'letters', 'books', 'bottles', 'juice', 'cars', 'bread', 'chain', 'bullets', 'mutton', 'shampoo', 'cakes', 'cards', 'pearls' , 'rope','bacon','tomatoes','sugar', 'eggs','onions','yeast','vegetables','baking powder','cheese', 'milk', 'handbags', 'boots', 'sweaters', 'dress', 'jacket'\n",
    "]\n",
    "    item_names = []\n",
    "    Time = []\n",
    "    for i in range(history_size):\n",
    "        number = randrange(1,70)\n",
    "        item.append(number)\n",
    "        item_names.append(search_history[number])\n",
    "        time = randrange(1550350815, 1550370815, 100)\n",
    "        Time.append(time)\n",
    "    #print(item)\n",
    "\n",
    "    df = pd.DataFrame(columns=['Item', 'Item_names', 'Time'])\n",
    "    df['Item'] = item\n",
    "    df['Item_names'] = item_names\n",
    "    df['Time'] = Time\n",
    "    df.to_csv('dataset.csv', mode ='w', index=False)\n",
    "    \n",
    "    print(df.head) "
   ]
  },
  {
   "cell_type": "code",
   "execution_count": 6,
   "id": "5a63726d",
   "metadata": {},
   "outputs": [],
   "source": [
    "def calculate_frequency():\n",
    "\tdf = pd.read_csv('dataset.csv')\n",
    "\tnew_frequency= []\n",
    "\tnew_names= []\n",
    "\tnew_items= []\n",
    "\n",
    "\titems = df['Item'].tolist()\n",
    "\titem_names = df['Item_names'].tolist()\n",
    "\n",
    "\titem_list = dict(zip(items, item_names))\n",
    "\tfrequency = Counter(items)\n",
    "\n",
    "\tfor item in item_list:\n",
    "\t\tnew_items.append(item)\n",
    "\t\tnew_names.append(item_list[item])\n",
    "\t\tnew_frequency.append(frequency[item])\n",
    "\t\t\n",
    "\trecency = calculate_recency(item_list,items)\n",
    "\tdf = pd.DataFrame(columns=['Item', 'Item_names', 'Frequency'])\n",
    "\tdf['Item'] = new_items\n",
    "\tdf['Item_names'] = new_names\n",
    "\tdf['Frequency'] = new_frequency\n",
    "\tdf['Recency'] = recency\n",
    "\tdf.to_csv('person.csv', mode ='w', index=False)"
   ]
  },
  {
   "cell_type": "code",
   "execution_count": 7,
   "id": "1fe8239c",
   "metadata": {},
   "outputs": [],
   "source": [
    "def calculate_recency(item_list,items):\n",
    "\tdf = pd.read_csv('dataset.csv')\n",
    "\tTime = df['Time'].tolist()\n",
    "\trecency = []\n",
    "\tl = 1\t\n",
    "\tfor i in item_list:\n",
    "\t\tt = Time[i]\n",
    "\t\tl += 1\n",
    "\t\tj = l+1 \n",
    "\t\tm = 0\n",
    "\t\tk = 1\n",
    "\t\tSum = 0\n",
    "\t\tfor j in Time:\n",
    "\t\t\tif i == items[m]:\n",
    "\t\t\t\tdif = abs(j-t)\n",
    "\t\t\t\tSum += dif\n",
    "\t\t\t\tk +=1\n",
    "\t\t\tm += 1\n",
    "\t\taverage = Sum/k\t\n",
    "\t\trecency.append(average)\n",
    "\treturn recency"
   ]
  },
  {
   "cell_type": "code",
   "execution_count": 8,
   "id": "0e226104",
   "metadata": {},
   "outputs": [
    {
     "name": "stdout",
     "output_type": "stream",
     "text": [
      "<bound method NDFrame.head of      Item Item_names        Time\n",
      "0      23   necklace  1550369615\n",
      "1       7      skirt  1550361815\n",
      "2       7      skirt  1550357615\n",
      "3      23   necklace  1550351315\n",
      "4      45       cars  1550359515\n",
      "..    ...        ...         ...\n",
      "995    57      sugar  1550366215\n",
      "996    25    shampoo  1550359915\n",
      "997    16     laptop  1550355515\n",
      "998     5       rice  1550363115\n",
      "999    45       cars  1550361415\n",
      "\n",
      "[1000 rows x 3 columns]>\n"
     ]
    }
   ],
   "source": [
    "getData()"
   ]
  },
  {
   "cell_type": "code",
   "execution_count": 9,
   "id": "06547440",
   "metadata": {},
   "outputs": [],
   "source": [
    "calculate_frequency()"
   ]
  }
 ],
 "metadata": {
  "kernelspec": {
   "display_name": "Python 3 (ipykernel)",
   "language": "python",
   "name": "python3"
  },
  "language_info": {
   "codemirror_mode": {
    "name": "ipython",
    "version": 3
   },
   "file_extension": ".py",
   "mimetype": "text/x-python",
   "name": "python",
   "nbconvert_exporter": "python",
   "pygments_lexer": "ipython3",
   "version": "3.11.5"
  }
 },
 "nbformat": 4,
 "nbformat_minor": 5
}
