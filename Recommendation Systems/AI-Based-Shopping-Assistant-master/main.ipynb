{
 "cells": [
  {
   "cell_type": "code",
   "execution_count": 2,
   "id": "d846ce23",
   "metadata": {},
   "outputs": [
    {
     "name": "stdout",
     "output_type": "stream",
     "text": [
      "Collecting opencv-python\n",
      "  Obtaining dependency information for opencv-python from https://files.pythonhosted.org/packages/ec/6c/fab8113424af5049f85717e8e527ca3773299a3c6b02506e66436e19874f/opencv_python-4.10.0.84-cp37-abi3-win_amd64.whl.metadata\n",
      "  Downloading opencv_python-4.10.0.84-cp37-abi3-win_amd64.whl.metadata (20 kB)\n",
      "Requirement already satisfied: numpy>=1.21.2 in c:\\users\\aksha\\anaconda3\\lib\\site-packages (from opencv-python) (1.24.3)\n",
      "Downloading opencv_python-4.10.0.84-cp37-abi3-win_amd64.whl (38.8 MB)\n",
      "   ---------------------------------------- 0.0/38.8 MB ? eta -:--:--\n",
      "   ---------------------------------------- 0.0/38.8 MB 2.0 MB/s eta 0:00:19\n",
      "   ---------------------------------------- 0.2/38.8 MB 3.1 MB/s eta 0:00:13\n",
      "    --------------------------------------- 0.5/38.8 MB 4.6 MB/s eta 0:00:09\n",
      "    --------------------------------------- 0.8/38.8 MB 5.3 MB/s eta 0:00:08\n",
      "   - -------------------------------------- 1.2/38.8 MB 5.6 MB/s eta 0:00:07\n",
      "   - -------------------------------------- 1.3/38.8 MB 5.2 MB/s eta 0:00:08\n",
      "   - -------------------------------------- 1.5/38.8 MB 5.1 MB/s eta 0:00:08\n",
      "   - -------------------------------------- 1.7/38.8 MB 4.9 MB/s eta 0:00:08\n",
      "   - -------------------------------------- 1.9/38.8 MB 4.7 MB/s eta 0:00:08\n",
      "   -- ------------------------------------- 2.0/38.8 MB 4.7 MB/s eta 0:00:08\n",
      "   -- ------------------------------------- 2.2/38.8 MB 4.5 MB/s eta 0:00:09\n",
      "   -- ------------------------------------- 2.4/38.8 MB 4.5 MB/s eta 0:00:09\n",
      "   -- ------------------------------------- 2.6/38.8 MB 4.4 MB/s eta 0:00:09\n",
      "   -- ------------------------------------- 2.8/38.8 MB 4.3 MB/s eta 0:00:09\n",
      "   --- ------------------------------------ 2.9/38.8 MB 4.4 MB/s eta 0:00:09\n",
      "   --- ------------------------------------ 3.1/38.8 MB 4.3 MB/s eta 0:00:09\n",
      "   --- ------------------------------------ 3.3/38.8 MB 4.3 MB/s eta 0:00:09\n",
      "   --- ------------------------------------ 3.5/38.8 MB 4.2 MB/s eta 0:00:09\n",
      "   --- ------------------------------------ 3.6/38.8 MB 4.2 MB/s eta 0:00:09\n",
      "   --- ------------------------------------ 3.8/38.8 MB 4.2 MB/s eta 0:00:09\n",
      "   ---- ----------------------------------- 4.0/38.8 MB 4.2 MB/s eta 0:00:09\n",
      "   ---- ----------------------------------- 4.2/38.8 MB 4.2 MB/s eta 0:00:09\n",
      "   ---- ----------------------------------- 4.4/38.8 MB 4.2 MB/s eta 0:00:09\n",
      "   ---- ----------------------------------- 4.5/38.8 MB 4.1 MB/s eta 0:00:09\n",
      "   ---- ----------------------------------- 4.7/38.8 MB 4.1 MB/s eta 0:00:09\n",
      "   ----- ---------------------------------- 4.9/38.8 MB 4.1 MB/s eta 0:00:09\n",
      "   ----- ---------------------------------- 5.1/38.8 MB 4.1 MB/s eta 0:00:09\n",
      "   ----- ---------------------------------- 5.3/38.8 MB 4.1 MB/s eta 0:00:09\n",
      "   ----- ---------------------------------- 5.4/38.8 MB 4.1 MB/s eta 0:00:09\n",
      "   ----- ---------------------------------- 5.6/38.8 MB 4.1 MB/s eta 0:00:09\n",
      "   ----- ---------------------------------- 5.8/38.8 MB 4.1 MB/s eta 0:00:09\n",
      "   ------ --------------------------------- 6.0/38.8 MB 4.1 MB/s eta 0:00:09\n",
      "   ------ --------------------------------- 6.2/38.8 MB 4.1 MB/s eta 0:00:09\n",
      "   ------ --------------------------------- 6.3/38.8 MB 4.0 MB/s eta 0:00:09\n",
      "   ------ --------------------------------- 6.5/38.8 MB 4.0 MB/s eta 0:00:08\n",
      "   ------ --------------------------------- 6.7/38.8 MB 4.0 MB/s eta 0:00:08\n",
      "   ------- -------------------------------- 6.9/38.8 MB 4.0 MB/s eta 0:00:08\n",
      "   ------- -------------------------------- 7.1/38.8 MB 4.0 MB/s eta 0:00:08\n",
      "   ------- -------------------------------- 7.2/38.8 MB 4.0 MB/s eta 0:00:08\n",
      "   ------- -------------------------------- 7.2/38.8 MB 4.0 MB/s eta 0:00:08\n",
      "   ------- -------------------------------- 7.2/38.8 MB 4.0 MB/s eta 0:00:08\n",
      "   ------- -------------------------------- 7.7/38.8 MB 4.0 MB/s eta 0:00:08\n",
      "   -------- ------------------------------- 7.9/38.8 MB 4.0 MB/s eta 0:00:08\n",
      "   -------- ------------------------------- 8.1/38.8 MB 4.0 MB/s eta 0:00:08\n",
      "   -------- ------------------------------- 8.3/38.8 MB 4.0 MB/s eta 0:00:08\n",
      "   -------- ------------------------------- 8.5/38.8 MB 4.0 MB/s eta 0:00:08\n",
      "   -------- ------------------------------- 8.7/38.8 MB 4.0 MB/s eta 0:00:08\n",
      "   --------- ------------------------------ 8.9/38.8 MB 4.0 MB/s eta 0:00:08\n",
      "   --------- ------------------------------ 9.0/38.8 MB 4.0 MB/s eta 0:00:08\n",
      "   --------- ------------------------------ 9.2/38.8 MB 4.0 MB/s eta 0:00:08\n",
      "   --------- ------------------------------ 9.4/38.8 MB 4.0 MB/s eta 0:00:08\n",
      "   --------- ------------------------------ 9.6/38.8 MB 4.0 MB/s eta 0:00:08\n",
      "   ---------- ----------------------------- 9.8/38.8 MB 4.0 MB/s eta 0:00:08\n",
      "   ---------- ----------------------------- 10.0/38.8 MB 4.0 MB/s eta 0:00:08\n",
      "   ---------- ----------------------------- 10.1/38.8 MB 4.0 MB/s eta 0:00:08\n",
      "   ---------- ----------------------------- 10.3/38.8 MB 4.0 MB/s eta 0:00:08\n",
      "   ---------- ----------------------------- 10.5/38.8 MB 4.0 MB/s eta 0:00:08\n",
      "   ---------- ----------------------------- 10.7/38.8 MB 4.0 MB/s eta 0:00:08\n",
      "   ----------- ---------------------------- 10.9/38.8 MB 3.9 MB/s eta 0:00:08\n",
      "   ----------- ---------------------------- 11.0/38.8 MB 3.9 MB/s eta 0:00:08\n",
      "   ----------- ---------------------------- 11.2/38.8 MB 3.9 MB/s eta 0:00:08\n",
      "   ----------- ---------------------------- 11.4/38.8 MB 3.9 MB/s eta 0:00:08\n",
      "   ----------- ---------------------------- 11.6/38.8 MB 3.9 MB/s eta 0:00:08\n",
      "   ------------ --------------------------- 11.8/38.8 MB 3.9 MB/s eta 0:00:08\n",
      "   ------------ --------------------------- 12.0/38.8 MB 3.9 MB/s eta 0:00:07\n",
      "   ------------ --------------------------- 12.1/38.8 MB 3.9 MB/s eta 0:00:07\n",
      "   ------------ --------------------------- 12.3/38.8 MB 3.9 MB/s eta 0:00:07\n",
      "   ------------ --------------------------- 12.5/38.8 MB 3.9 MB/s eta 0:00:07\n",
      "   ------------- -------------------------- 12.7/38.8 MB 3.9 MB/s eta 0:00:07\n",
      "   ------------- -------------------------- 12.9/38.8 MB 3.9 MB/s eta 0:00:07\n",
      "   ------------- -------------------------- 13.0/38.8 MB 3.9 MB/s eta 0:00:07\n",
      "   ------------- -------------------------- 13.2/38.8 MB 3.9 MB/s eta 0:00:07\n",
      "   ------------- -------------------------- 13.4/38.8 MB 3.9 MB/s eta 0:00:07\n",
      "   -------------- ------------------------- 13.6/38.8 MB 3.9 MB/s eta 0:00:07\n",
      "   -------------- ------------------------- 13.8/38.8 MB 3.9 MB/s eta 0:00:07\n",
      "   -------------- ------------------------- 14.0/38.8 MB 3.9 MB/s eta 0:00:07\n",
      "   -------------- ------------------------- 14.1/38.8 MB 3.9 MB/s eta 0:00:07\n",
      "   -------------- ------------------------- 14.3/38.8 MB 3.9 MB/s eta 0:00:07\n",
      "   -------------- ------------------------- 14.5/38.8 MB 3.9 MB/s eta 0:00:07\n",
      "   --------------- ------------------------ 14.7/38.8 MB 3.9 MB/s eta 0:00:07\n",
      "   --------------- ------------------------ 14.9/38.8 MB 3.9 MB/s eta 0:00:07\n",
      "   --------------- ------------------------ 15.0/38.8 MB 3.9 MB/s eta 0:00:07\n",
      "   --------------- ------------------------ 15.2/38.8 MB 3.9 MB/s eta 0:00:07\n",
      "   --------------- ------------------------ 15.4/38.8 MB 3.9 MB/s eta 0:00:07\n",
      "   ---------------- ----------------------- 15.6/38.8 MB 3.9 MB/s eta 0:00:07\n",
      "   ---------------- ----------------------- 15.8/38.8 MB 3.9 MB/s eta 0:00:06\n",
      "   ---------------- ----------------------- 16.0/38.8 MB 3.9 MB/s eta 0:00:06\n",
      "   ---------------- ----------------------- 16.1/38.8 MB 3.9 MB/s eta 0:00:06\n",
      "   ---------------- ----------------------- 16.3/38.8 MB 3.9 MB/s eta 0:00:06\n",
      "   ---------------- ----------------------- 16.5/38.8 MB 3.9 MB/s eta 0:00:06\n",
      "   ----------------- ---------------------- 16.7/38.8 MB 3.9 MB/s eta 0:00:06\n",
      "   ----------------- ---------------------- 16.9/38.8 MB 3.9 MB/s eta 0:00:06\n",
      "   ----------------- ---------------------- 17.0/38.8 MB 3.9 MB/s eta 0:00:06\n",
      "   ----------------- ---------------------- 17.2/38.8 MB 3.9 MB/s eta 0:00:06\n",
      "   ----------------- ---------------------- 17.4/38.8 MB 3.9 MB/s eta 0:00:06\n",
      "   ------------------ --------------------- 17.6/38.8 MB 4.0 MB/s eta 0:00:06\n",
      "   ------------------ --------------------- 17.8/38.8 MB 4.0 MB/s eta 0:00:06\n",
      "   ------------------ --------------------- 18.0/38.8 MB 3.9 MB/s eta 0:00:06\n",
      "   ------------------ --------------------- 18.1/38.8 MB 3.9 MB/s eta 0:00:06\n",
      "   ------------------ --------------------- 18.3/38.8 MB 3.9 MB/s eta 0:00:06\n",
      "   ------------------- -------------------- 18.5/38.8 MB 3.9 MB/s eta 0:00:06\n",
      "   ------------------- -------------------- 18.7/38.8 MB 3.9 MB/s eta 0:00:06\n",
      "   ------------------- -------------------- 18.9/38.8 MB 3.9 MB/s eta 0:00:06\n",
      "   ------------------- -------------------- 19.0/38.8 MB 3.9 MB/s eta 0:00:06\n",
      "   ------------------- -------------------- 19.2/38.8 MB 3.9 MB/s eta 0:00:06\n",
      "   ------------------- -------------------- 19.4/38.8 MB 3.9 MB/s eta 0:00:06\n",
      "   -------------------- ------------------- 19.6/38.8 MB 3.9 MB/s eta 0:00:05\n",
      "   -------------------- ------------------- 19.8/38.8 MB 3.9 MB/s eta 0:00:05\n",
      "   -------------------- ------------------- 19.9/38.8 MB 3.9 MB/s eta 0:00:05\n",
      "   -------------------- ------------------- 20.0/38.8 MB 3.9 MB/s eta 0:00:05\n",
      "   -------------------- ------------------- 20.0/38.8 MB 3.9 MB/s eta 0:00:05\n",
      "   -------------------- ------------------- 20.1/38.8 MB 3.8 MB/s eta 0:00:05\n",
      "   --------------------- ------------------ 20.7/38.8 MB 3.9 MB/s eta 0:00:05\n",
      "   --------------------- ------------------ 20.9/38.8 MB 3.9 MB/s eta 0:00:05\n",
      "   --------------------- ------------------ 21.1/38.8 MB 3.9 MB/s eta 0:00:05\n",
      "   --------------------- ------------------ 21.2/38.8 MB 3.9 MB/s eta 0:00:05\n",
      "   ---------------------- ----------------- 21.4/38.8 MB 3.9 MB/s eta 0:00:05\n",
      "   ---------------------- ----------------- 21.6/38.8 MB 3.9 MB/s eta 0:00:05\n",
      "   ---------------------- ----------------- 21.8/38.8 MB 3.9 MB/s eta 0:00:05\n",
      "   ---------------------- ----------------- 22.0/38.8 MB 3.9 MB/s eta 0:00:05\n",
      "   ---------------------- ----------------- 22.1/38.8 MB 3.9 MB/s eta 0:00:05\n",
      "   ---------------------- ----------------- 22.3/38.8 MB 3.9 MB/s eta 0:00:05\n",
      "   ----------------------- ---------------- 22.5/38.8 MB 3.9 MB/s eta 0:00:05\n",
      "   ----------------------- ---------------- 22.7/38.8 MB 3.9 MB/s eta 0:00:05\n",
      "   ----------------------- ---------------- 22.9/38.8 MB 3.9 MB/s eta 0:00:05\n",
      "   ----------------------- ---------------- 23.1/38.8 MB 3.9 MB/s eta 0:00:05\n",
      "   ----------------------- ---------------- 23.2/38.8 MB 3.9 MB/s eta 0:00:05\n",
      "   ------------------------ --------------- 23.4/38.8 MB 3.9 MB/s eta 0:00:04\n",
      "   ------------------------ --------------- 23.6/38.8 MB 3.9 MB/s eta 0:00:04\n",
      "   ------------------------ --------------- 23.8/38.8 MB 3.9 MB/s eta 0:00:04\n",
      "   ------------------------ --------------- 23.9/38.8 MB 3.9 MB/s eta 0:00:04\n",
      "   ------------------------ --------------- 24.1/38.8 MB 3.9 MB/s eta 0:00:04\n",
      "   ------------------------- -------------- 24.3/38.8 MB 3.9 MB/s eta 0:00:04\n",
      "   ------------------------- -------------- 24.3/38.8 MB 3.9 MB/s eta 0:00:04\n",
      "   ------------------------- -------------- 24.6/38.8 MB 3.9 MB/s eta 0:00:04\n",
      "   ------------------------- -------------- 24.9/38.8 MB 3.9 MB/s eta 0:00:04\n",
      "   ------------------------- -------------- 25.0/38.8 MB 3.9 MB/s eta 0:00:04\n",
      "   ------------------------- -------------- 25.2/38.8 MB 3.9 MB/s eta 0:00:04\n",
      "   -------------------------- ------------- 25.4/38.8 MB 3.9 MB/s eta 0:00:04\n",
      "   -------------------------- ------------- 25.6/38.8 MB 3.9 MB/s eta 0:00:04\n",
      "   -------------------------- ------------- 25.8/38.8 MB 3.9 MB/s eta 0:00:04\n",
      "   -------------------------- ------------- 25.9/38.8 MB 3.9 MB/s eta 0:00:04\n",
      "   -------------------------- ------------- 26.1/38.8 MB 3.9 MB/s eta 0:00:04\n",
      "   --------------------------- ------------ 26.3/38.8 MB 3.9 MB/s eta 0:00:04\n",
      "   --------------------------- ------------ 26.5/38.8 MB 3.9 MB/s eta 0:00:04\n",
      "   --------------------------- ------------ 26.7/38.8 MB 3.9 MB/s eta 0:00:04\n",
      "   --------------------------- ------------ 26.8/38.8 MB 3.9 MB/s eta 0:00:04\n",
      "   --------------------------- ------------ 27.0/38.8 MB 3.9 MB/s eta 0:00:04\n",
      "   --------------------------- ------------ 27.2/38.8 MB 3.9 MB/s eta 0:00:04\n",
      "   ---------------------------- ----------- 27.4/38.8 MB 3.9 MB/s eta 0:00:03\n",
      "   ---------------------------- ----------- 27.6/38.8 MB 3.9 MB/s eta 0:00:03\n",
      "   ---------------------------- ----------- 27.7/38.8 MB 3.9 MB/s eta 0:00:03\n",
      "   ---------------------------- ----------- 27.9/38.8 MB 3.9 MB/s eta 0:00:03\n",
      "   ---------------------------- ----------- 28.1/38.8 MB 3.9 MB/s eta 0:00:03\n",
      "   ----------------------------- ---------- 28.3/38.8 MB 3.9 MB/s eta 0:00:03\n",
      "   ----------------------------- ---------- 28.5/38.8 MB 3.9 MB/s eta 0:00:03\n",
      "   ----------------------------- ---------- 28.6/38.8 MB 3.9 MB/s eta 0:00:03\n",
      "   ----------------------------- ---------- 28.8/38.8 MB 3.9 MB/s eta 0:00:03\n",
      "   ----------------------------- ---------- 29.0/38.8 MB 3.9 MB/s eta 0:00:03\n",
      "   ------------------------------ --------- 29.2/38.8 MB 3.9 MB/s eta 0:00:03\n",
      "   ------------------------------ --------- 29.3/38.8 MB 3.9 MB/s eta 0:00:03\n",
      "   ------------------------------ --------- 29.5/38.8 MB 3.9 MB/s eta 0:00:03\n",
      "   ------------------------------ --------- 29.7/38.8 MB 3.9 MB/s eta 0:00:03\n",
      "   ------------------------------ --------- 29.9/38.8 MB 3.9 MB/s eta 0:00:03\n",
      "   ------------------------------ --------- 30.1/38.8 MB 3.9 MB/s eta 0:00:03\n",
      "   ------------------------------- -------- 30.2/38.8 MB 4.0 MB/s eta 0:00:03\n",
      "   ------------------------------- -------- 30.4/38.8 MB 4.0 MB/s eta 0:00:03\n",
      "   ------------------------------- -------- 30.6/38.8 MB 3.9 MB/s eta 0:00:03\n",
      "   ------------------------------- -------- 30.7/38.8 MB 3.9 MB/s eta 0:00:03\n",
      "   ------------------------------- -------- 30.9/38.8 MB 3.9 MB/s eta 0:00:03\n",
      "   -------------------------------- ------- 31.1/38.8 MB 3.8 MB/s eta 0:00:03\n",
      "   -------------------------------- ------- 31.3/38.8 MB 3.8 MB/s eta 0:00:02\n",
      "   -------------------------------- ------- 31.4/38.8 MB 3.8 MB/s eta 0:00:02\n",
      "   -------------------------------- ------- 31.6/38.8 MB 3.8 MB/s eta 0:00:02\n",
      "   -------------------------------- ------- 31.8/38.8 MB 3.9 MB/s eta 0:00:02\n",
      "   -------------------------------- ------- 32.0/38.8 MB 3.8 MB/s eta 0:00:02\n",
      "   --------------------------------- ------ 32.2/38.8 MB 3.8 MB/s eta 0:00:02\n",
      "   --------------------------------- ------ 32.3/38.8 MB 3.8 MB/s eta 0:00:02\n",
      "   --------------------------------- ------ 32.5/38.8 MB 3.8 MB/s eta 0:00:02\n",
      "   --------------------------------- ------ 32.7/38.8 MB 3.8 MB/s eta 0:00:02\n",
      "   --------------------------------- ------ 32.8/38.8 MB 3.8 MB/s eta 0:00:02\n",
      "   --------------------------------- ------ 33.0/38.8 MB 3.8 MB/s eta 0:00:02\n",
      "   ---------------------------------- ----- 33.2/38.8 MB 3.8 MB/s eta 0:00:02\n",
      "   ---------------------------------- ----- 33.4/38.8 MB 3.8 MB/s eta 0:00:02\n",
      "   ---------------------------------- ----- 33.5/38.8 MB 3.8 MB/s eta 0:00:02\n",
      "   ---------------------------------- ----- 33.7/38.8 MB 3.8 MB/s eta 0:00:02\n",
      "   ---------------------------------- ----- 33.9/38.8 MB 3.8 MB/s eta 0:00:02\n",
      "   ----------------------------------- ---- 34.1/38.8 MB 3.8 MB/s eta 0:00:02\n",
      "   ----------------------------------- ---- 34.3/38.8 MB 3.8 MB/s eta 0:00:02\n",
      "   ----------------------------------- ---- 34.4/38.8 MB 3.8 MB/s eta 0:00:02\n",
      "   ----------------------------------- ---- 34.6/38.8 MB 3.9 MB/s eta 0:00:02\n",
      "   ----------------------------------- ---- 34.8/38.8 MB 3.8 MB/s eta 0:00:02\n",
      "   ----------------------------------- ---- 34.9/38.8 MB 3.8 MB/s eta 0:00:02\n",
      "   ------------------------------------ --- 35.2/38.8 MB 3.8 MB/s eta 0:00:01\n",
      "   ------------------------------------ --- 35.3/38.8 MB 3.8 MB/s eta 0:00:01\n",
      "   ------------------------------------ --- 35.5/38.8 MB 3.8 MB/s eta 0:00:01\n",
      "   ------------------------------------ --- 35.7/38.8 MB 3.8 MB/s eta 0:00:01\n",
      "   ------------------------------------ --- 35.9/38.8 MB 3.8 MB/s eta 0:00:01\n",
      "   ------------------------------------- -- 36.0/38.8 MB 3.8 MB/s eta 0:00:01\n",
      "   ------------------------------------- -- 36.2/38.8 MB 3.8 MB/s eta 0:00:01\n",
      "   ------------------------------------- -- 36.3/38.8 MB 3.8 MB/s eta 0:00:01\n",
      "   ------------------------------------- -- 36.6/38.8 MB 3.8 MB/s eta 0:00:01\n",
      "   ------------------------------------- -- 36.8/38.8 MB 3.8 MB/s eta 0:00:01\n",
      "   -------------------------------------- - 36.9/38.8 MB 3.8 MB/s eta 0:00:01\n",
      "   -------------------------------------- - 37.1/38.8 MB 3.8 MB/s eta 0:00:01\n",
      "   -------------------------------------- - 37.3/38.8 MB 3.8 MB/s eta 0:00:01\n",
      "   -------------------------------------- - 37.5/38.8 MB 3.8 MB/s eta 0:00:01\n",
      "   -------------------------------------- - 37.6/38.8 MB 3.8 MB/s eta 0:00:01\n",
      "   -------------------------------------- - 37.8/38.8 MB 3.8 MB/s eta 0:00:01\n",
      "   ---------------------------------------  38.0/38.8 MB 3.8 MB/s eta 0:00:01\n",
      "   ---------------------------------------  38.2/38.8 MB 3.8 MB/s eta 0:00:01\n",
      "   ---------------------------------------  38.3/38.8 MB 3.8 MB/s eta 0:00:01\n",
      "   ---------------------------------------  38.5/38.8 MB 3.8 MB/s eta 0:00:01\n",
      "   ---------------------------------------  38.7/38.8 MB 3.8 MB/s eta 0:00:01\n",
      "   ---------------------------------------  38.8/38.8 MB 3.8 MB/s eta 0:00:01\n",
      "   ---------------------------------------  38.8/38.8 MB 3.8 MB/s eta 0:00:01\n",
      "   ---------------------------------------- 38.8/38.8 MB 3.6 MB/s eta 0:00:00\n",
      "Installing collected packages: opencv-python\n",
      "Successfully installed opencv-python-4.10.0.84\n",
      "Note: you may need to restart the kernel to use updated packages.\n"
     ]
    }
   ],
   "source": [
    "pip install opencv-python"
   ]
  },
  {
   "cell_type": "code",
   "execution_count": 4,
   "id": "5c929fe6",
   "metadata": {},
   "outputs": [],
   "source": [
    "import os\n",
    "import cv2\n",
    "import pandas as pd\n",
    "import numpy as np\n",
    "from sklearn.cluster import MeanShift\n",
    "from sklearn.datasets import make_blobs\n",
    "import matplotlib.pyplot as plt\n",
    "from collections import Counter\n"
   ]
  },
  {
   "cell_type": "code",
   "execution_count": 5,
   "id": "d3566008",
   "metadata": {},
   "outputs": [
    {
     "name": "stdout",
     "output_type": "stream",
     "text": [
      "Search: dress\n"
     ]
    }
   ],
   "source": [
    "keyword = input(\"Search: \")\n",
    "PATH = \"data/\"\n",
    "\n",
    "for category in os.listdir(PATH):\n",
    "    if category == keyword:\n",
    "        path = os.path.join(PATH, category)\n",
    "        for image in os.listdir(path):\n",
    "            img = cv2.imread(os.path.join(path, image))\n",
    "            img = cv2.resize(img, (200, 200))\n",
    "            cv2.imshow(category, img)\n",
    "            cv2.waitKey(1000)\n",
    "cv2.destroyAllWindows()\n"
   ]
  },
  {
   "cell_type": "code",
   "execution_count": 6,
   "id": "710c2c33",
   "metadata": {},
   "outputs": [],
   "source": [
    "dataset = pd.read_csv('person.csv')\n",
    "\n",
    "X = dataset.iloc[:, [2, 3]].values\n",
    "y = dataset.iloc[:, [0]].values\n",
    "name = dataset['Item_names'].tolist()\n"
   ]
  },
  {
   "cell_type": "code",
   "execution_count": 7,
   "id": "8eb4bc8a",
   "metadata": {},
   "outputs": [],
   "source": [
    "ms = MeanShift()\n",
    "ms.fit(X)\n",
    "labels = ms.labels_\n",
    "cluster_centers = ms.cluster_centers_\n"
   ]
  },
  {
   "cell_type": "code",
   "execution_count": 8,
   "id": "e664c2e0",
   "metadata": {},
   "outputs": [],
   "source": [
    "gg = Counter(labels)"
   ]
  },
  {
   "cell_type": "code",
   "execution_count": 9,
   "id": "6fac0190",
   "metadata": {},
   "outputs": [],
   "source": [
    "def find_max():\n",
    "    max_count = gg[0]\n",
    "    max_label = 0\n",
    "    for label, count in gg.items():\n",
    "        if count > max_count:\n",
    "            max_count = count\n",
    "            max_label = label\n",
    "    return max_label"
   ]
  },
  {
   "cell_type": "code",
   "execution_count": 10,
   "id": "1ce68e65",
   "metadata": {},
   "outputs": [],
   "source": [
    "Y = y.tolist()\n",
    "L = labels.tolist()"
   ]
  },
  {
   "cell_type": "code",
   "execution_count": 11,
   "id": "cc0ebf1b",
   "metadata": {},
   "outputs": [],
   "source": [
    "max_label = find_max()"
   ]
  },
  {
   "cell_type": "code",
   "execution_count": 12,
   "id": "d537f277",
   "metadata": {},
   "outputs": [],
   "source": [
    "suggest = []\n",
    "for i in range(len(labels)):\n",
    "    if max_label == L[i]:\n",
    "        suggest.append(Y[i])"
   ]
  },
  {
   "cell_type": "code",
   "execution_count": 13,
   "id": "e9ee6011",
   "metadata": {},
   "outputs": [],
   "source": [
    "def stripp(rr):\n",
    "    new = []\n",
    "    for i in range(len(suggest)):\n",
    "        p = str(rr[i]).replace('[', '').replace(']', '')\n",
    "        new.append(int(p))\n",
    "    return new"
   ]
  },
  {
   "cell_type": "code",
   "execution_count": 14,
   "id": "cac537a3",
   "metadata": {},
   "outputs": [],
   "source": [
    "new_Y = stripp(Y)\n",
    "new_name = []\n",
    "for i in range(len(suggest)):\n",
    "    p = str(name[i]).replace('[', '').replace(']', '')\n",
    "    new_name.append(p)\n"
   ]
  },
  {
   "cell_type": "code",
   "execution_count": 15,
   "id": "d0b0e527",
   "metadata": {},
   "outputs": [
    {
     "data": {
      "text/plain": [
       "<matplotlib.collections.PathCollection at 0x266e312e350>"
      ]
     },
     "execution_count": 15,
     "metadata": {},
     "output_type": "execute_result"
    },
    {
     "data": {
      "image/png": "[encoded data removed]",
      "text/plain": [
       "<Figure size 640x480 with 1 Axes>"
      ]
     },
     "metadata": {},
     "output_type": "display_data"
    }
   ],
   "source": [
    "n_clusters_ = len(np.unique(labels))\n",
    "\n",
    "colors = 10 * ['r.', 'g.', 'b.', 'c.', 'k.', 'y.', 'm.']\n",
    "\n",
    "for i in range(len(X)):\n",
    "    plt.plot(X[i][0], X[i][1], colors[labels[i]], markersize=10)\n",
    "\n",
    "plt.scatter(cluster_centers[:, 0], cluster_centers[:, 1], marker=\"x\", s=150, linewidths=5, zorder=10)\n"
   ]
  },
  {
   "cell_type": "code",
   "execution_count": 16,
   "id": "2cd37605",
   "metadata": {},
   "outputs": [],
   "source": [
    "item_name = dict(zip(new_Y, new_name))\n"
   ]
  },
  {
   "cell_type": "code",
   "execution_count": 17,
   "id": "560ba556",
   "metadata": {},
   "outputs": [
    {
     "name": "stdout",
     "output_type": "stream",
     "text": [
      "Recommendations:\n",
      "Item ID- 23   Item name- necklace\n",
      "Item ID- 7   Item name- skirt\n",
      "Item ID- 45   Item name- cars\n",
      "Item ID- 59   Item name- onions\n",
      "Item ID- 69   Item name- jacket\n",
      "Item ID- 20   Item name- hat\n",
      "Item ID- 57   Item name- sugar\n",
      "Item ID- 52   Item name- cards\n",
      "Item ID- 55   Item name- bacon\n",
      "Item ID- 25   Item name- shampoo\n"
     ]
    }
   ],
   "source": [
    "print(\"Recommendations:\")\n",
    "for i in range(10):\n",
    "    print(\"Item ID- {}   Item name- {}\".format(new_Y[i], new_name[i]))\n"
   ]
  },
  {
   "cell_type": "code",
   "execution_count": 18,
   "id": "6d5544b6",
   "metadata": {},
   "outputs": [],
   "source": [
    "plt.show()"
   ]
  },
  {
   "cell_type": "code",
   "execution_count": 19,
   "id": "826cc02f",
   "metadata": {},
   "outputs": [],
   "source": [
    "import pickle\n",
    "from sklearn.cluster import MeanShift\n",
    "from collections import Counter\n",
    "import pandas as pd\n",
    "\n",
    "# Load dataset\n",
    "dataset = pd.read_csv('person.csv')\n",
    "X = dataset.iloc[:, [2, 3]].values\n",
    "y = dataset.iloc[:, [0]].values\n",
    "name = dataset['Item_names'].tolist()\n",
    "\n",
    "# Perform MeanShift clustering\n",
    "ms = MeanShift()\n",
    "ms.fit(X)\n",
    "labels = ms.labels_\n",
    "cluster_centers = ms.cluster_centers_\n",
    "\n",
    "# Save the trained model, labels, and cluster centers\n",
    "with open('meanshift_model.pkl', 'wb') as f:\n",
    "    pickle.dump((ms, labels, cluster_centers, y, name), f)\n"
   ]
  }
 ],
 "metadata": {
  "kernelspec": {
   "display_name": "Python 3 (ipykernel)",
   "language": "python",
   "name": "python3"
  },
  "language_info": {
   "codemirror_mode": {
    "name": "ipython",
    "version": 3
   },
   "file_extension": ".py",
   "mimetype": "text/x-python",
   "name": "python",
   "nbconvert_exporter": "python",
   "pygments_lexer": "ipython3",
   "version": "3.11.5"
  }
 },
 "nbformat": 4,
 "nbformat_minor": 5
}
